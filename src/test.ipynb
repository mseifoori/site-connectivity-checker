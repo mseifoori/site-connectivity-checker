{
 "cells": [
  {
   "cell_type": "code",
   "execution_count": null,
   "id": "a0509e1f",
   "metadata": {},
   "outputs": [
    {
     "data": {
      "text/plain": [
       "<Response [200]>"
      ]
     },
     "execution_count": 2,
     "metadata": {},
     "output_type": "execute_result"
    }
   ],
   "source": [
    "import requests\n",
    "\n",
    "headers = {\n",
    "    'User-Agent: Mozilla/5.0 (<system-information>) <platform> (<platform-details>) <extensions>'\n",
    "}\n",
    "\n",
    "requests.get('https://github.com/', headers=headers)"
   ]
  },
  {
   "cell_type": "code",
   "execution_count": 15,
   "id": "27de6e74",
   "metadata": {},
   "outputs": [],
   "source": [
    "def site_availability_checker(url):\n",
    "    try:\n",
    "        headers = {\n",
    "            'User-Agent': 'Mozilla/5.0 (<system-information>) <platform> (<platform-details>) <extensions>'\n",
    "        }\n",
    "        response = requests.get(url, headers=headers, timeout=20)\n",
    "        if response.status_code == 200:\n",
    "            return True\n",
    "        return False\n",
    "    except Exception as e:\n",
    "        return False"
   ]
  },
  {
   "cell_type": "code",
   "execution_count": 16,
   "id": "0bf76f65",
   "metadata": {},
   "outputs": [
    {
     "data": {
      "text/plain": [
       "True"
      ]
     },
     "execution_count": 16,
     "metadata": {},
     "output_type": "execute_result"
    }
   ],
   "source": [
    "site_availability_checker('https://www.google.com/')"
   ]
  },
  {
   "cell_type": "code",
   "execution_count": 17,
   "id": "c727b074",
   "metadata": {},
   "outputs": [],
   "source": [
    "import threading"
   ]
  },
  {
   "cell_type": "code",
   "execution_count": null,
   "id": "cc7dbae4",
   "metadata": {},
   "outputs": [],
   "source": []
  },
  {
   "cell_type": "code",
   "execution_count": 1,
   "id": "6d0b730b",
   "metadata": {},
   "outputs": [
    {
     "name": "stdout",
     "output_type": "stream",
     "text": [
      "https://www.google.com is available!\n",
      "Failed to reach https://www.python.org! Error: HTTPSConnectionPool(host='www.python.org', port=443): Max retries exceeded with url: / (Caused by NameResolutionError(\"<urllib3.connection.HTTPSConnection object at 0x791804179820>: Failed to resolve 'www.python.org' ([Errno -3] Temporary failure in name resolution)\"))\n",
      "Failed to reach https://nonexistentwebsite.example! Error: HTTPSConnectionPool(host='nonexistentwebsite.example', port=443): Max retries exceeded with url: / (Caused by NameResolutionError(\"<urllib3.connection.HTTPSConnection object at 0x791804179b80>: Failed to resolve 'nonexistentwebsite.example' ([Errno -3] Temporary failure in name resolution)\"))\n",
      "Failed to reach https://www.github.com! Error: HTTPSConnectionPool(host='github.com', port=443): Max retries exceeded with url: / (Caused by NameResolutionError(\"<urllib3.connection.HTTPSConnection object at 0x791806c610a0>: Failed to resolve 'github.com' ([Errno -3] Temporary failure in name resolution)\"))\n",
      "Failed to reach https://www.stackoverflow.com! Error: HTTPSConnectionPool(host='www.stackoverflow.com', port=443): Max retries exceeded with url: / (Caused by NameResolutionError(\"<urllib3.connection.HTTPSConnection object at 0x7918041794c0>: Failed to resolve 'www.stackoverflow.com' ([Errno -3] Temporary failure in name resolution)\"))\n"
     ]
    }
   ],
   "source": [
    "import threading\n",
    "import requests\n",
    "\n",
    "def site_connectivity_checker(url):\n",
    "    try:\n",
    "        headers = {\n",
    "            'User-Agent': 'Mozilla/5.0 (<system-information>) <platform> (<platform-details>) <extensions>'\n",
    "        }\n",
    "        response = requests.get(url, headers=headers, timeout=20)\n",
    "        if response.status_code == 200:\n",
    "            print(f'{url} is available!')\n",
    "            return True\n",
    "        else:\n",
    "            print(f'{url} is not available at this time!')\n",
    "    except requests.exceptions.RequestException as e:\n",
    "        print(f'Failed to reach {url}! Error: {e}')\n",
    "\n",
    "websites_to_check = [\n",
    "    \"https://www.google.com\",\n",
    "    \"https://www.github.com\",\n",
    "    \"https://www.stackoverflow.com\",\n",
    "    \"https://www.python.org\",\n",
    "    \"https://nonexistentwebsite.example\"\n",
    "]\n",
    "\n",
    "threads = []\n",
    "for url in websites_to_check:\n",
    "    thread = threading.Thread(target=site_connectivity_checker, args=(url,))\n",
    "    threads.append(thread)\n",
    "    thread.start()\n",
    "    \n",
    "for thread in threads:\n",
    "    thread.join()"
   ]
  },
  {
   "cell_type": "code",
   "execution_count": null,
   "id": "e66aa39a",
   "metadata": {},
   "outputs": [],
   "source": []
  }
 ],
 "metadata": {
  "kernelspec": {
   "display_name": "project.n1.env",
   "language": "python",
   "name": "python3"
  },
  "language_info": {
   "codemirror_mode": {
    "name": "ipython",
    "version": 3
   },
   "file_extension": ".py",
   "mimetype": "text/x-python",
   "name": "python",
   "nbconvert_exporter": "python",
   "pygments_lexer": "ipython3",
   "version": "3.12.4"
  }
 },
 "nbformat": 4,
 "nbformat_minor": 5
}
